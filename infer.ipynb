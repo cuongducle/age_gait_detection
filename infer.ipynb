{
 "cells": [
  {
   "cell_type": "code",
   "execution_count": 26,
   "metadata": {},
   "outputs": [],
   "source": [
    "# load model and predict\n",
    "import torch\n",
    "import pandas as pd\n",
    "import numpy as np\n",
    "from module import AgeGaitModule,AgeGaitModel"
   ]
  },
  {
   "cell_type": "code",
   "execution_count": 27,
   "metadata": {},
   "outputs": [
    {
     "data": {
      "text/plain": [
       "AgeGaitModule(\n",
       "  (train_acc): BinaryAccuracy()\n",
       "  (valid_acc): BinaryAccuracy()\n",
       "  (model): AgeGaitModel(\n",
       "    (conv1): Conv1d(6, 20, kernel_size=(3,), stride=(1,), padding=same)\n",
       "    (Flatten): Flatten(start_dim=1, end_dim=-1)\n",
       "    (linear): Linear(in_features=2000, out_features=200, bias=True)\n",
       "    (linear2): Linear(in_features=200, out_features=1, bias=True)\n",
       "  )\n",
       ")"
      ]
     },
     "execution_count": 27,
     "metadata": {},
     "output_type": "execute_result"
    }
   ],
   "source": [
    "module = AgeGaitModule(AgeGaitModel())\n",
    "module.load_state_dict(torch.load(\"model.ckpt\")[\"state_dict\"])\n",
    "module.eval()"
   ]
  },
  {
   "cell_type": "code",
   "execution_count": 73,
   "metadata": {},
   "outputs": [],
   "source": [
    "import os\n",
    "import torch.utils.data as data\n",
    "\n",
    "\n",
    "data_folder = \"AutomaticExtractionData_IMUZCenter\"\n",
    "ids = [file.split('_')[1][2:] for file in os.listdir(data_folder)]\n",
    "# use 20% of training data for validation\n",
    "train_set_size = int(len(ids) * 0.8)\n",
    "valid_set_size = len(ids) - train_set_size\n",
    "\n",
    "seed = torch.Generator().manual_seed(42)\n",
    "train_set_id, valid_set_id = data.random_split(ids, [train_set_size, valid_set_size], generator=seed)\n",
    "train_set = [file for file in os.listdir(data_folder) if file.split('_')[1][2:] in train_set_id ]\n",
    "valid_set = [file for file in os.listdir(data_folder) if file.split('_')[1][2:] in valid_set_id ]"
   ]
  },
  {
   "cell_type": "code",
   "execution_count": 94,
   "metadata": {},
   "outputs": [],
   "source": [
    "# read label file\n",
    "label_file = pd.read_csv(\"IDGenderAgelist.csv\",index_col=0)\n",
    "def predict(file):\n",
    "    seqs = []\n",
    "    id = file.split('_')[-3][2:]\n",
    "    label = label_file[\"Gender(0:Female;1:Male)\"][int(id)]\n",
    "    seq = pd.read_csv(file,skiprows=2,header=None).to_numpy()\n",
    "    for i in range(len(seq)//50-5):\n",
    "        # print(i*50,(i+6)*50)\n",
    "        seqs.append(np.fft.fft(seq[i*50:(i+6)*50],n=100,axis=0))\n",
    "    \n",
    "    seqs = torch.from_numpy(np.array(seqs)).float()\n",
    "    # print(seqs.shape,len(seq))\n",
    "    with torch.no_grad():\n",
    "        out = module.model(seqs)\n",
    "        # average the output\n",
    "        out = torch.mean(out,dim=0)\n",
    "        # get value from tensor\n",
    "        out = round(out.numpy().tolist())\n",
    "    return out,label"
   ]
  },
  {
   "cell_type": "code",
   "execution_count": 89,
   "metadata": {},
   "outputs": [
    {
     "name": "stdout",
     "output_type": "stream",
     "text": [
      "torch.Size([4, 100, 6]) 536\n"
     ]
    },
    {
     "data": {
      "text/plain": [
       "(1, 1)"
      ]
     },
     "execution_count": 89,
     "metadata": {},
     "output_type": "execute_result"
    }
   ],
   "source": [
    "predict(\"AutomaticExtractionData_IMUZCenter/T0_ID000104_Center_seq0.csv\")"
   ]
  },
  {
   "cell_type": "code",
   "execution_count": 95,
   "metadata": {},
   "outputs": [
    {
     "name": "stdout",
     "output_type": "stream",
     "text": [
      "accuracy 0.9545454545454546\n"
     ]
    }
   ],
   "source": [
    "true_count = 0\n",
    "all_count = 0\n",
    "for file in valid_set:\n",
    "    try:\n",
    "        file = os.path.join(data_folder,file)\n",
    "        # print(file)\n",
    "        out,label = predict(file)\n",
    "        all_count += 1\n",
    "        if out == label:\n",
    "            true_count += 1\n",
    "    except:\n",
    "        # print(\"error\")\n",
    "        continue\n",
    "print(\"accuracy\",true_count/all_count)"
   ]
  }
 ],
 "metadata": {
  "kernelspec": {
   "display_name": "conformer",
   "language": "python",
   "name": "python3"
  },
  "language_info": {
   "codemirror_mode": {
    "name": "ipython",
    "version": 3
   },
   "file_extension": ".py",
   "mimetype": "text/x-python",
   "name": "python",
   "nbconvert_exporter": "python",
   "pygments_lexer": "ipython3",
   "version": "3.7.9"
  },
  "orig_nbformat": 4,
  "vscode": {
   "interpreter": {
    "hash": "f5b428599d1f38f707918be87198e22e98d4bb2daa9b8b52f6bb4e93e70711b9"
   }
  }
 },
 "nbformat": 4,
 "nbformat_minor": 2
}
