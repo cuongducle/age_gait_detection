{
 "cells": [
  {
   "cell_type": "code",
   "execution_count": 1,
   "metadata": {},
   "outputs": [],
   "source": [
    "from dataset import AutomaticExtractionDataset, read_data\n",
    "from torch.utils.data import DataLoader\n",
    "import pandas as pd"
   ]
  },
  {
   "cell_type": "code",
   "execution_count": 2,
   "metadata": {},
   "outputs": [
    {
     "name": "stdout",
     "output_type": "stream",
     "text": [
      "number people: 1490\n",
      "train set size: 1420 1192\n",
      "valid set size: 526 298\n",
      "T0_ID469147_Center_seq0.csv 469147\n",
      "T0_ID469147_Center_seq1.csv 469147\n",
      "T0_ID469147_Center_seq0.csv 469147\n",
      "T0_ID469147_Center_seq1.csv 469147\n",
      "train size 6180 valid size 2307\n"
     ]
    }
   ],
   "source": [
    "path = \"AutomaticExtractionData_IMUZCenter\"\n",
    "label_file = \"IDGenderAgelist.csv\"\n",
    "# datasest = AutomaticExtractionDataset(path, label_file)\n",
    "train_set, valid_set = read_data(path, label_file)\n",
    "    \n",
    "print(\"train size\", len(train_set),\"valid size\", len(valid_set))\n",
    "train_loader = DataLoader(train_set,batch_size=8,shuffle=True)\n",
    "valid_loader = DataLoader(valid_set,batch_size=8,shuffle=True)"
   ]
  },
  {
   "cell_type": "code",
   "execution_count": null,
   "metadata": {},
   "outputs": [],
   "source": [
    "# visualize the data in time series for classification\n",
    "import matplotlib.pyplot as plt\n",
    "import numpy as np\n",
    "\n",
    "def plot_data(data, label):\n",
    "    plt.figure(figsize=(20, 5))\n",
    "    plt.plot(data)\n",
    "    plt.title(label)\n",
    "    plt.show()\n",
    "    "
   ]
  }
 ],
 "metadata": {
  "kernelspec": {
   "display_name": "asr",
   "language": "python",
   "name": "python3"
  },
  "language_info": {
   "codemirror_mode": {
    "name": "ipython",
    "version": 3
   },
   "file_extension": ".py",
   "mimetype": "text/x-python",
   "name": "python",
   "nbconvert_exporter": "python",
   "pygments_lexer": "ipython3",
   "version": "3.7.0"
  },
  "orig_nbformat": 4,
  "vscode": {
   "interpreter": {
    "hash": "e881b2a30d400a4bad2cd9b4a110285b9b979a48cf1314b19d060a89e42dd49d"
   }
  }
 },
 "nbformat": 4,
 "nbformat_minor": 2
}
